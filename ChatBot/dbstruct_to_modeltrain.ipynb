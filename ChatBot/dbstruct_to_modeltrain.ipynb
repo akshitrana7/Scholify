{
  "nbformat": 4,
  "nbformat_minor": 0,
  "metadata": {
    "colab": {
      "provenance": []
    },
    "kernelspec": {
      "name": "python3",
      "display_name": "Python 3"
    },
    "language_info": {
      "name": "python"
    }
  },
  "cells": [
    {
      "cell_type": "code",
      "execution_count": null,
      "metadata": {
        "id": "s3GDwanI8jEW"
      },
      "outputs": [],
      "source": [
        "import numpy as np"
      ]
    },
    {
      "cell_type": "code",
      "source": [
        "import json"
      ],
      "metadata": {
        "id": "0Hn-UIS8uKRe"
      },
      "execution_count": null,
      "outputs": []
    },
    {
      "cell_type": "code",
      "source": [
        "from datetime import datetime"
      ],
      "metadata": {
        "id": "sziV2uRcuKUW"
      },
      "execution_count": null,
      "outputs": []
    },
    {
      "cell_type": "code",
      "source": [
        "timeframe='2015-05'"
      ],
      "metadata": {
        "id": "mUAazAreuKXG"
      },
      "execution_count": null,
      "outputs": []
    },
    {
      "cell_type": "code",
      "source": [
        "import sqlite3"
      ],
      "metadata": {
        "id": "HeMSPjB-H6OO"
      },
      "execution_count": null,
      "outputs": []
    },
    {
      "cell_type": "code",
      "source": [
        "sql_transaction=[]"
      ],
      "metadata": {
        "id": "d8VTJRtKuKbn"
      },
      "execution_count": null,
      "outputs": []
    },
    {
      "cell_type": "code",
      "source": [
        "connection=sqlite3.connect('{}.db'.format(timeframe))\n",
        "c=connection.cursor()"
      ],
      "metadata": {
        "id": "lx_bOwVQ5zdH"
      },
      "execution_count": null,
      "outputs": []
    },
    {
      "cell_type": "code",
      "source": [
        "def create_table():\n",
        "  c.execute(\"\"\"CREATE TABLE IF NOT EXISTS parent_reply(parent_id TEXT PRIMARY KEY)\"\"\", comment_id TEXT UNIQUE,parent TEXT,comment TEXT,subreddit TEXT,unix INT,score INT)\n"
      ],
      "metadata": {
        "id": "-UpgtL_pwFvl"
      },
      "execution_count": null,
      "outputs": []
    },
    {
      "cell_type": "code",
      "source": [
        "def format_data(data):\n",
        "  data=data.replace(\"\\n\",\"newlinechar\").replace(\"\\r\",\"newlinechar\").replace('\"',\"'\")\n",
        "  return data\n",
        ""
      ],
      "metadata": {
        "id": "cU8cbtqf_bUz"
      },
      "execution_count": null,
      "outputs": []
    },
    {
      "cell_type": "code",
      "source": [
        "def find_parent(pid):\n",
        "  try:\n",
        "    sql=\"SELECT comment FROM parent_reply WHERE comment_id='{}' LIMIT 1\"format(pid)\n",
        "    c.execute(sql)\n",
        "    result=c.fetchone()\n",
        "    if result != None:\n",
        "      return result[0]\n",
        "    else:\n",
        "      return False\n",
        "  except Exception as e:\n",
        "    print(\"find_parent\",e)\n",
        "    return False"
      ],
      "metadata": {
        "id": "Q68Wh9PUEE29"
      },
      "execution_count": null,
      "outputs": []
    },
    {
      "cell_type": "code",
      "source": [
        "if __name__==\"__main__\":\n",
        "  create table()\n",
        "  row_counter=0\n",
        "  paired_counter=0\n",
        "  with open(\"j:/chatdata/reddit_data/{}/RC_{}\".format(timeframe.split('-')[0],timeframe),buffering=1000) as f:\n",
        "    for row in f:\n",
        "      row_counter+=1\n",
        "      row=json.loads(row)\n",
        "      parent_id=row('parent_id')\n",
        "      body=format_data(row['body'])\n",
        "      created_utc=row['created_utc']\n",
        "      score=row['score']\n",
        "      subreddit=row['subreddit']\n",
        "      parent_data=find_parent(parent_id)\n",
        "      if score >= 2:\n",
        "        existing_comment_score = find_existing_score(parent_id)\n",
        "\n"
      ],
      "metadata": {
        "id": "WqmqFXMI53wI"
      },
      "execution_count": null,
      "outputs": []
    },
    {
      "cell_type": "markdown",
      "source": [
        "def find_existing_score(pid):\n",
        "    try:\n",
        "        sql = \"SELECT score FROM parent_reply WHERE parent_id = '{}' LIMIT 1\".format(pid)\n",
        "        c.execute(sql)\n",
        "        result = c.fetchone()\n",
        "        if result != None:\n",
        "            return result[0]\n",
        "        else: return False\n",
        "    except Exception as e:\n",
        "        #print(str(e))\n",
        "        return False"
      ],
      "metadata": {
        "id": "njuWczRBwFyU"
      }
    },
    {
      "cell_type": "code",
      "source": [
        "if score >= 2:\n",
        "                existing_comment_score = find_existing_score(parent_id)\n",
        "                if existing_comment_score:\n",
        "                    if score > existing_comment_score:"
      ],
      "metadata": {
        "id": "xVh7UXmBqOQ7"
      },
      "execution_count": null,
      "outputs": []
    },
    {
      "cell_type": "code",
      "source": [
        "def acceptable(data):\n",
        "    if len(data.split(' ')) > 50 or len(data) < 1:\n",
        "        return False\n",
        "    elif len(data) > 1000:\n",
        "        return False\n",
        "    elif data == '[deleted]':\n",
        "        return False\n",
        "    elif data == '[removed]':\n",
        "        return False\n",
        "    else:\n",
        "        return True"
      ],
      "metadata": {
        "id": "Jr59w6cEqQ8s"
      },
      "execution_count": null,
      "outputs": []
    },
    {
      "cell_type": "code",
      "source": [
        "def transaction_bldr(sql):\n",
        "    global sql_transaction\n",
        "    sql_transaction.append(sql)\n",
        "    if len(sql_transaction) > 1000:\n",
        "        c.execute('BEGIN TRANSACTION')\n",
        "        for s in sql_transaction:\n",
        "            try:\n",
        "                c.execute(s)\n",
        "            except:\n",
        "                pass\n",
        "        connection.commit()\n",
        "        sql_transaction = []"
      ],
      "metadata": {
        "id": "jDG2uhNTqRMD"
      },
      "execution_count": null,
      "outputs": []
    },
    {
      "cell_type": "code",
      "source": [
        "import sqlite3\n",
        "import json\n",
        "from datetime import datetime\n",
        "\n",
        "timeframe = '2015-05'\n",
        "sql_transaction = []\n",
        "\n",
        "connection = sqlite3.connect('{}.db'.format(timeframe))\n",
        "c = connection.cursor()\n",
        "\n",
        "def create_table():\n",
        "    c.execute(\"CREATE TABLE IF NOT EXISTS parent_reply(parent_id TEXT PRIMARY KEY, comment_id TEXT UNIQUE, parent TEXT, comment TEXT, subreddit TEXT, unix INT, score INT)\")\n",
        "\n",
        "def format_data(data):\n",
        "    data = data.replace('\\n',' newlinechar ').replace('\\r',' newlinechar ').replace('\"',\"'\")\n",
        "    return data\n",
        "\n",
        "def transaction_bldr(sql):\n",
        "    global sql_transaction\n",
        "    sql_transaction.append(sql)\n",
        "    if len(sql_transaction) > 1000:\n",
        "        c.execute('BEGIN TRANSACTION')\n",
        "        for s in sql_transaction:\n",
        "            try:\n",
        "                c.execute(s)\n",
        "            except:\n",
        "                pass\n",
        "        connection.commit()\n",
        "        sql_transaction = []\n",
        "\n",
        "def sql_insert_replace_comment(commentid,parentid,parent,comment,subreddit,time,score):\n",
        "    try:\n",
        "        sql = \"\"\"UPDATE parent_reply SET parent_id = ?, comment_id = ?, parent = ?, comment = ?, subreddit = ?, unix = ?, score = ? WHERE parent_id =?;\"\"\".format(parentid, commentid, parent, comment, subreddit, int(time), score, parentid)\n",
        "        transaction_bldr(sql)\n",
        "    except Exception as e:\n",
        "        print('s0 insertion',str(e))\n",
        "\n",
        "def sql_insert_has_parent(commentid,parentid,parent,comment,subreddit,time,score):\n",
        "    try:\n",
        "        sql = \"\"\"INSERT INTO parent_reply (parent_id, comment_id, parent, comment, subreddit, unix, score) VALUES (\"{}\",\"{}\",\"{}\",\"{}\",\"{}\",{},{});\"\"\".format(parentid, commentid, parent, comment, subreddit, int(time), score)\n",
        "        transaction_bldr(sql)\n",
        "    except Exception as e:\n",
        "        print('s0 insertion',str(e))\n",
        "\n",
        "def sql_insert_no_parent(commentid,parentid,comment,subreddit,time,score):\n",
        "    try:\n",
        "        sql = \"\"\"INSERT INTO parent_reply (parent_id, comment_id, comment, subreddit, unix, score) VALUES (\"{}\",\"{}\",\"{}\",\"{}\",{},{});\"\"\".format(parentid, commentid, comment, subreddit, int(time), score)\n",
        "        transaction_bldr(sql)\n",
        "    except Exception as e:\n",
        "        print('s0 insertion',str(e))\n",
        "\n",
        "def acceptable(data):\n",
        "    if len(data.split(' ')) > 50 or len(data) < 1:\n",
        "        return False\n",
        "    elif len(data) > 1000:\n",
        "        return False\n",
        "    elif data == '[deleted]':\n",
        "        return False\n",
        "    elif data == '[removed]':\n",
        "        return False\n",
        "    else:\n",
        "        return True\n",
        "\n",
        "def find_parent(pid):\n",
        "    try:\n",
        "        sql = \"SELECT comment FROM parent_reply WHERE comment_id = '{}' LIMIT 1\".format(pid)\n",
        "        c.execute(sql)\n",
        "        result = c.fetchone()\n",
        "        if result != None:\n",
        "            return result[0]\n",
        "        else: return False\n",
        "    except Exception as e:\n",
        "        #print(str(e))\n",
        "        return False\n",
        "\n",
        "def find_existing_score(pid):\n",
        "    try:\n",
        "        sql = \"SELECT score FROM parent_reply WHERE parent_id = '{}' LIMIT 1\".format(pid)\n",
        "        c.execute(sql)\n",
        "        result = c.fetchone()\n",
        "        if result != None:\n",
        "            return result[0]\n",
        "        else: return False\n",
        "    except Exception as e:\n",
        "        #print(str(e))\n",
        "        return False\n",
        "\n",
        "if __name__ == '__main__':\n",
        "    create_table()\n",
        "    row_counter = 0\n",
        "    paired_rows = 0\n",
        "\n",
        "    with open('J:/chatdata/reddit_data/{}/RC_{}'.format(timeframe.split('-')[0],timeframe), buffering=1000) as f:\n",
        "        for row in f:\n",
        "            row_counter += 1\n",
        "            row = json.loads(row)\n",
        "            parent_id = row['parent_id']\n",
        "            body = format_data(row['body'])\n",
        "            created_utc = row['created_utc']\n",
        "            score = row['score']\n",
        "            comment_id = row['name']\n",
        "            subreddit = row['subreddit']\n",
        "            parent_data = find_parent(parent_id)\n",
        "            if score >= 2:\n",
        "                existing_comment_score = find_existing_score(parent_id)\n",
        "                if existing_comment_score:\n",
        "                    if score > existing_comment_score:\n",
        "                        if acceptable(body):\n",
        "                            sql_insert_replace_comment(comment_id,parent_id,parent_data,body,subreddit,created_utc,score)\n",
        "\n",
        "                else:\n",
        "                    if acceptable(body):\n",
        "                        if parent_data:\n",
        "                            sql_insert_has_parent(comment_id,parent_id,parent_data,body,subreddit,created_utc,score)\n",
        "                            paired_rows += 1\n",
        "                        else:\n",
        "                            sql_insert_no_parent(comment_id,parent_id,body,subreddit,created_utc,score)\n",
        "\n",
        "            if row_counter % 100000 == 0:\n",
        "                print('Total Rows Read: {}, Paired Rows: {}, Time: {}'.format(row_counter, paired_rows, str(datetime.now())))"
      ],
      "metadata": {
        "id": "-xtkmql_qRiL"
      },
      "execution_count": null,
      "outputs": []
    },
    {
      "cell_type": "code",
      "source": [
        "if row_counter % cleanup == 0:\n",
        "                print(\"Cleanin up!\")\n",
        "                sql = \"DELETE FROM parent_reply WHERE parent IS NULL\"\n",
        "                c.execute(sql)\n",
        "                connection.commit()\n",
        "                c.execute(\"VACUUM\")\n",
        "                connection.commit()"
      ],
      "metadata": {
        "id": "p8Wj6dteqyZh"
      },
      "execution_count": null,
      "outputs": []
    },
    {
      "cell_type": "code",
      "source": [
        "for timeframe in timeframes:\n",
        "    connection = sqlite3.connect('{}.db'.format(timeframe))\n",
        "    c = connection.cursor()\n",
        "    limit = 5000\n",
        "    last_unix = 0\n",
        "    cur_length = limit\n",
        "    counter = 0\n",
        "    test_done = False\n",
        "\n",
        "    while cur_length == limit:\n",
        "\n",
        "        df = pd.read_sql(\"SELECT * FROM parent_reply WHERE unix > {} and parent NOT NULL and score > 0 ORDER BY unix ASC LIMIT {}\".format(last_unix,limit),connection)\n",
        "        last_unix = df.tail(1)['unix'].values[0]\n",
        "        cur_length = len(df)\n",
        "\n",
        "        if not test_done:\n",
        "            with open('test.from','a', encoding='utf8') as f:\n",
        "                for content in df['parent'].values:\n",
        "                    f.write(content+'\\n')\n",
        "\n",
        "            with open('test.to','a', encoding='utf8') as f:\n",
        "                for content in df['comment'].values:\n",
        "                    f.write(str(content)+'\\n')\n",
        "\n",
        "            test_done = True\n",
        "\n",
        "        else:\n",
        "            with open('train.from','a', encoding='utf8') as f:\n",
        "                for content in df['parent'].values:\n",
        "                    f.write(content+'\\n')\n",
        "\n",
        "            with open('train.to','a', encoding='utf8') as f:\n",
        "                for content in df['comment'].values:\n",
        "                    f.write(str(content)+'\\n')\n",
        "\n",
        "        counter += 1\n",
        "        if counter % 20 == 0:\n",
        "            print(counter*limit,'rows completed so far')"
      ],
      "metadata": {
        "id": "KrMjuRMmqyzf"
      },
      "execution_count": null,
      "outputs": []
    },
    {
      "cell_type": "code",
      "source": [
        "hparams = {\n",
        "    'attention': 'scaled_luong',\n",
        "    'src': 'from',\n",
        "    'tgt': 'to',\n",
        "    'vocab_prefix': os.path.join(train_dir, \"vocab\"),\n",
        "    'train_prefix': os.path.join(train_dir, \"train\"),\n",
        "    'dev_prefix': os.path.join(train_dir, \"tst2012\"),\n",
        "    'test_prefix': os.path.join(train_dir, \"tst2013\"),\n",
        "    'out_dir': out_dir,\n",
        "    'num_train_steps': 500000,\n",
        "    'num_layers': 2,\n",
        "    'num_units': 512,\n",
        "    'override_loaded_hparams': True,\n",
        "    'learning_rate':0.001,\n",
        "#    'decay_factor': 0.99998,\n",
        "    'decay_steps': 1,\n",
        "#    'residual': True,\n",
        "    'start_decay_step': 1,\n",
        "    'beam_width': 10,\n",
        "    'length_penalty_weight': 1.0,\n",
        "    'optimizer': 'adam',\n",
        "    'encoder_type': 'bi',\n",
        "    'num_translations_per_input': 30\n",
        "}"
      ],
      "metadata": {
        "id": "KwoSrX45qzAA"
      },
      "execution_count": null,
      "outputs": []
    },
    {
      "cell_type": "code",
      "source": [],
      "metadata": {
        "id": "byQ5YHxIqzJP"
      },
      "execution_count": null,
      "outputs": []
    },
    {
      "cell_type": "code",
      "source": [],
      "metadata": {
        "id": "g1kmdTJ3qzaf"
      },
      "execution_count": null,
      "outputs": []
    },
    {
      "cell_type": "code",
      "source": [],
      "metadata": {
        "id": "oAiDPrFfqzi4"
      },
      "execution_count": null,
      "outputs": []
    }
  ]
}